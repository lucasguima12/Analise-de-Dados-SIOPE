{
 "cells": [
  {
   "cell_type": "code",
   "execution_count": null,
   "id": "316052a3",
   "metadata": {},
   "outputs": [],
   "source": [
    "import requests\n",
    "\n",
    "# Lista de valores para os parâmetros\n",
    "anos = [2018, 2019, 2020, 2021, 2022]\n",
    "# quero somente o mes 10\n",
    "num_peri = 5\n",
    "mes_exercicio = 10\n",
    "ufs = [\n",
    "    \"AC\", \"AL\", \"AM\", \"AP\", \"BA\", \"CE\", \"DF\", \"ES\", \"GO\", \n",
    "    \"MA\", \"MG\", \"MS\", \"MT\", \"PA\", \"PB\", \"PE\", \"PI\", \"PR\", \n",
    "    \"RJ\", \"RN\", \"RO\", \"RR\", \"RS\", \"SC\", \"SE\", \"SP\", \"TO\"\n",
    "]\n",
    "# Loop para iterar pelos valores dos parâmetros\n",
    "for ano in anos:\n",
    "    for uf in ufs:\n",
    "        url = f\"https://www.fnde.gov.br/olinda-ide/servico/DADOS_ABERTOS_SIOPE/versao/v1/odata/Remuneracao_Siope(Ano_Declaracao=@Ano_Declaracao,Num_Peri=@Num_Peri,Mes_Exercicio=@Mes_Exercicio,Sig_UF=@Sig_UF)?@Ano_Declaracao={ano}&@Num_Peri={num_peri}&@Mes_Exercicio='{mes_exercicio}'&@Sig_UF='{uf}'&$format=text/csv&$select=TIPO,AN_DECLARACAO,NU_PERIODO,ME_EXERCICIO,COD_UF,SIG_UF,COD_MUNI,NOM_MUNI,CO_ESCOLA,NO_CATEGORIA_PROFISSIONAL,DS_SITUACAO_PROFISSIONAL,TP_CATEGORIA,NU_CARGA_HORARIA,VL_SALARIO,VL_MINIMO_FUNDEB,VL_MAXIMO_FUNDEB,VL_OUTROS\"\n",
    "\n",
    "        response = requests.get(url)\n",
    "\n",
    "        if response.status_code == 200:\n",
    "            filename = f\"Remuneracao_Siope_10_{ano}_{uf}.csv\"  # Nome do arquivo de destino\n",
    "            with open(filename, \"wb\") as file:\n",
    "                file.write(response.content)\n",
    "            print(f\"Download concluído\")\n",
    "        else:\n",
    "            print(f\"Falha ao baixar o arquivo\")\n"
   ]
  },
  {
   "cell_type": "code",
   "execution_count": null,
   "id": "bf74cf52",
   "metadata": {},
   "outputs": [],
   "source": []
  }
 ],
 "metadata": {
  "kernelspec": {
   "display_name": "Python 3 (ipykernel)",
   "language": "python",
   "name": "python3"
  },
  "language_info": {
   "codemirror_mode": {
    "name": "ipython",
    "version": 3
   },
   "file_extension": ".py",
   "mimetype": "text/x-python",
   "name": "python",
   "nbconvert_exporter": "python",
   "pygments_lexer": "ipython3",
   "version": "3.11.5"
  }
 },
 "nbformat": 4,
 "nbformat_minor": 5
}
